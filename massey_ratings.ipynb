{
 "cells": [
  {
   "cell_type": "markdown",
   "metadata": {},
   "source": [
    "# Massey Ratings\n",
    "    - Matt Robinson, Yale Undergraduate Sports Analytics Group"
   ]
  },
  {
   "cell_type": "markdown",
   "metadata": {},
   "source": [
    "This notebook is one of several notebooks exploring ratings systems often used in sports. All of the notebooks can be found here(github link). \n",
    "\n",
    "Specifically, this notebook attempts to both explain and implement the popular Massey ratings model created by [Ken Massey](http://www.masseyratings.com/). Legend has it that Massey, now a math professor, came up with this method while still an undergraduate (which I include as a fun fact and as motivation for me to figure out my life)."
   ]
  },
  {
   "cell_type": "markdown",
   "metadata": {},
   "source": [
    "## The Basic Overview ##\n",
    "\n",
    "Massey's method is also referred to as the *Point Spread Method*. To put it simply, the goal of this method is for the difference in ratings between two teams to equal the difference in score when they play each other. Mathematically, this can be easily summarized by the equation:\n",
    "$$ r_i - r_j = y_k$$\n",
    "where $r_i$ and $r_j$ are the ratings of teams $i$ and $j$, respectively, and $y_k$ is the point differential for game $k$, in which $i$ and $j$ play each other.\n",
    "\n",
    "Now, of course, this equation is just the ideal. Over the course of a few games, you will get a system of equations that look just like it. Finding ratings such that it holds true for every team and every game is unrealistic. Therefore, Massey's method uses what is called the *method of least squares* to find the best approximate ratings."
   ]
  },
  {
   "cell_type": "markdown",
   "metadata": {
    "collapsed": true
   },
   "source": [
    "## Working Through an Example ##\n",
    "\n",
    "In order to work through the implementation of this method and understand how it works, I'm going to use an extremely simplified example. Let's imagine the Ivy league is instead the IV league and consists of only four teams who each play each other once: Harvard, Princeton, Yale, and Columbia.\n",
    "\n",
    "Here are the results from the 2016 IV season that I scraped from the NCAA stats website:\n"
   ]
  },
  {
   "cell_type": "code",
   "execution_count": 3,
   "metadata": {
    "collapsed": true
   },
   "outputs": [],
   "source": [
    "import numpy as np\n",
    "import pandas as pd"
   ]
  },
  {
   "cell_type": "code",
   "execution_count": 7,
   "metadata": {
    "collapsed": false
   },
   "outputs": [],
   "source": [
    "IV_df = pd.read_csv('IV_league_2016.csv')"
   ]
  },
  {
   "cell_type": "code",
   "execution_count": 9,
   "metadata": {
    "collapsed": false
   },
   "outputs": [
    {
     "data": {
      "text/html": [
       "<div>\n",
       "<table border=\"1\" class=\"dataframe\">\n",
       "  <thead>\n",
       "    <tr style=\"text-align: right;\">\n",
       "      <th></th>\n",
       "      <th>year</th>\n",
       "      <th>month</th>\n",
       "      <th>day</th>\n",
       "      <th>team</th>\n",
       "      <th>opponent</th>\n",
       "      <th>location</th>\n",
       "      <th>team_score</th>\n",
       "      <th>opponent_score</th>\n",
       "    </tr>\n",
       "  </thead>\n",
       "  <tbody>\n",
       "    <tr>\n",
       "      <th>0</th>\n",
       "      <td>2016</td>\n",
       "      <td>10</td>\n",
       "      <td>1</td>\n",
       "      <td>Columbia</td>\n",
       "      <td>Princeton</td>\n",
       "      <td>1</td>\n",
       "      <td>13</td>\n",
       "      <td>48</td>\n",
       "    </tr>\n",
       "    <tr>\n",
       "      <th>1</th>\n",
       "      <td>2016</td>\n",
       "      <td>10</td>\n",
       "      <td>22</td>\n",
       "      <td>Harvard</td>\n",
       "      <td>Princeton</td>\n",
       "      <td>-1</td>\n",
       "      <td>23</td>\n",
       "      <td>20</td>\n",
       "    </tr>\n",
       "    <tr>\n",
       "      <th>2</th>\n",
       "      <td>2016</td>\n",
       "      <td>10</td>\n",
       "      <td>28</td>\n",
       "      <td>Columbia</td>\n",
       "      <td>Yale</td>\n",
       "      <td>1</td>\n",
       "      <td>23</td>\n",
       "      <td>31</td>\n",
       "    </tr>\n",
       "    <tr>\n",
       "      <th>3</th>\n",
       "      <td>2016</td>\n",
       "      <td>11</td>\n",
       "      <td>5</td>\n",
       "      <td>Columbia</td>\n",
       "      <td>Harvard</td>\n",
       "      <td>-1</td>\n",
       "      <td>21</td>\n",
       "      <td>28</td>\n",
       "    </tr>\n",
       "    <tr>\n",
       "      <th>4</th>\n",
       "      <td>2016</td>\n",
       "      <td>11</td>\n",
       "      <td>12</td>\n",
       "      <td>Princeton</td>\n",
       "      <td>Yale</td>\n",
       "      <td>-1</td>\n",
       "      <td>31</td>\n",
       "      <td>3</td>\n",
       "    </tr>\n",
       "    <tr>\n",
       "      <th>5</th>\n",
       "      <td>2016</td>\n",
       "      <td>11</td>\n",
       "      <td>19</td>\n",
       "      <td>Harvard</td>\n",
       "      <td>Yale</td>\n",
       "      <td>1</td>\n",
       "      <td>14</td>\n",
       "      <td>21</td>\n",
       "    </tr>\n",
       "  </tbody>\n",
       "</table>\n",
       "</div>"
      ],
      "text/plain": [
       "   year  month  day       team   opponent  location  team_score  \\\n",
       "0  2016     10    1   Columbia  Princeton         1          13   \n",
       "1  2016     10   22    Harvard  Princeton        -1          23   \n",
       "2  2016     10   28   Columbia       Yale         1          23   \n",
       "3  2016     11    5   Columbia    Harvard        -1          21   \n",
       "4  2016     11   12  Princeton       Yale        -1          31   \n",
       "5  2016     11   19    Harvard       Yale         1          14   \n",
       "\n",
       "   opponent_score  \n",
       "0              48  \n",
       "1              20  \n",
       "2              31  \n",
       "3              28  \n",
       "4               3  \n",
       "5              21  "
      ]
     },
     "execution_count": 9,
     "metadata": {},
     "output_type": "execute_result"
    }
   ],
   "source": [
    "IV_df"
   ]
  },
  {
   "cell_type": "markdown",
   "metadata": {},
   "source": [
    "The `location` column tells us if the team in the `team` column was home or away. \n",
    "* Away = -1\n",
    "* Neutral = 0\n",
    "* Home = 1"
   ]
  },
  {
   "cell_type": "markdown",
   "metadata": {},
   "source": [
    "Since the goal of Massey's method is to find ratings whose difference gives the score differential, we need to add a column with this data:"
   ]
  },
  {
   "cell_type": "code",
   "execution_count": 10,
   "metadata": {
    "collapsed": true
   },
   "outputs": [],
   "source": [
    "IV_df['score_diff'] = (IV_df['team_score']-IV_df['opponent_score'])"
   ]
  },
  {
   "cell_type": "code",
   "execution_count": 11,
   "metadata": {
    "collapsed": false
   },
   "outputs": [
    {
     "data": {
      "text/html": [
       "<div>\n",
       "<table border=\"1\" class=\"dataframe\">\n",
       "  <thead>\n",
       "    <tr style=\"text-align: right;\">\n",
       "      <th></th>\n",
       "      <th>year</th>\n",
       "      <th>month</th>\n",
       "      <th>day</th>\n",
       "      <th>team</th>\n",
       "      <th>opponent</th>\n",
       "      <th>location</th>\n",
       "      <th>team_score</th>\n",
       "      <th>opponent_score</th>\n",
       "      <th>score_diff</th>\n",
       "    </tr>\n",
       "  </thead>\n",
       "  <tbody>\n",
       "    <tr>\n",
       "      <th>0</th>\n",
       "      <td>2016</td>\n",
       "      <td>10</td>\n",
       "      <td>1</td>\n",
       "      <td>Columbia</td>\n",
       "      <td>Princeton</td>\n",
       "      <td>1</td>\n",
       "      <td>13</td>\n",
       "      <td>48</td>\n",
       "      <td>-35</td>\n",
       "    </tr>\n",
       "    <tr>\n",
       "      <th>1</th>\n",
       "      <td>2016</td>\n",
       "      <td>10</td>\n",
       "      <td>22</td>\n",
       "      <td>Harvard</td>\n",
       "      <td>Princeton</td>\n",
       "      <td>-1</td>\n",
       "      <td>23</td>\n",
       "      <td>20</td>\n",
       "      <td>3</td>\n",
       "    </tr>\n",
       "    <tr>\n",
       "      <th>2</th>\n",
       "      <td>2016</td>\n",
       "      <td>10</td>\n",
       "      <td>28</td>\n",
       "      <td>Columbia</td>\n",
       "      <td>Yale</td>\n",
       "      <td>1</td>\n",
       "      <td>23</td>\n",
       "      <td>31</td>\n",
       "      <td>-8</td>\n",
       "    </tr>\n",
       "    <tr>\n",
       "      <th>3</th>\n",
       "      <td>2016</td>\n",
       "      <td>11</td>\n",
       "      <td>5</td>\n",
       "      <td>Columbia</td>\n",
       "      <td>Harvard</td>\n",
       "      <td>-1</td>\n",
       "      <td>21</td>\n",
       "      <td>28</td>\n",
       "      <td>-7</td>\n",
       "    </tr>\n",
       "    <tr>\n",
       "      <th>4</th>\n",
       "      <td>2016</td>\n",
       "      <td>11</td>\n",
       "      <td>12</td>\n",
       "      <td>Princeton</td>\n",
       "      <td>Yale</td>\n",
       "      <td>-1</td>\n",
       "      <td>31</td>\n",
       "      <td>3</td>\n",
       "      <td>28</td>\n",
       "    </tr>\n",
       "    <tr>\n",
       "      <th>5</th>\n",
       "      <td>2016</td>\n",
       "      <td>11</td>\n",
       "      <td>19</td>\n",
       "      <td>Harvard</td>\n",
       "      <td>Yale</td>\n",
       "      <td>1</td>\n",
       "      <td>14</td>\n",
       "      <td>21</td>\n",
       "      <td>-7</td>\n",
       "    </tr>\n",
       "  </tbody>\n",
       "</table>\n",
       "</div>"
      ],
      "text/plain": [
       "   year  month  day       team   opponent  location  team_score  \\\n",
       "0  2016     10    1   Columbia  Princeton         1          13   \n",
       "1  2016     10   22    Harvard  Princeton        -1          23   \n",
       "2  2016     10   28   Columbia       Yale         1          23   \n",
       "3  2016     11    5   Columbia    Harvard        -1          21   \n",
       "4  2016     11   12  Princeton       Yale        -1          31   \n",
       "5  2016     11   19    Harvard       Yale         1          14   \n",
       "\n",
       "   opponent_score  score_diff  \n",
       "0              48         -35  \n",
       "1              20           3  \n",
       "2              31          -8  \n",
       "3              28          -7  \n",
       "4               3          28  \n",
       "5              21          -7  "
      ]
     },
     "execution_count": 11,
     "metadata": {},
     "output_type": "execute_result"
    }
   ],
   "source": [
    "IV_df"
   ]
  },
  {
   "cell_type": "markdown",
   "metadata": {},
   "source": [
    "### The Setup ###\n",
    "\n",
    "Now comes time to get back to our original equation:\n",
    "$$ r_i - r_j = y_k $$\n",
    "\n",
    "In this case, we are going to try to find the ratings for all four teams of the IV league: $r_h, r_p, r_y,$ and $r_c$. To do this, we look at the six league games from the IV season and construct an equation for each game. In our case, the system of equations looks like this (using the data from the table above):\n",
    "\n",
    "$$ \n",
    "\\begin{align*}\n",
    "r_c - r_p &= -35 \\\\\n",
    "r_h - r_p &=  3 \\\\\n",
    "r_c - r_y &= -8 \\\\\n",
    "r_c - r_h &= -7 \\\\\n",
    "r_p - r_y &= 28 \\\\\n",
    "r_h - r_y &= -7 \\\\\n",
    "\\end{align*}\n",
    "$$\n"
   ]
  },
  {
   "cell_type": "markdown",
   "metadata": {},
   "source": [
    "For sake of simplicity, I am going to take every equation with a negative `score_diff` and multiply through by $-1$. Now every point differential is positive and the system of equations looks like this:\n",
    "$$ \n",
    "\\begin{align*}\n",
    "r_p - r_c &= 35 \\\\\n",
    "r_h - r_p &=  3 \\\\\n",
    "r_y - r_c &= 8 \\\\\n",
    "r_h - r_c &= 7 \\\\\n",
    "r_p - r_y &= 28 \\\\\n",
    "r_y - r_h &= 7 \\\\\n",
    "\\end{align*}\n",
    "$$"
   ]
  },
  {
   "cell_type": "markdown",
   "metadata": {},
   "source": [
    "Let's now encode this system of equations in matrix form. Generally, in a season of $m$ games among $n$ different teams, there will be $m$ equations (one for each game) and $n$ unknowns (the ratings). Thus, we can create an $m \\times n$ matrix to encode the equations from the $m$ games and $n$ teams. For our example with six games and four teams, the matrix $X$ looks like this:"
   ]
  },
  {
   "cell_type": "code",
   "execution_count": 29,
   "metadata": {
    "collapsed": false
   },
   "outputs": [
    {
     "data": {
      "text/plain": [
       "array([[ 0,  1,  0, -1],\n",
       "       [ 1, -1,  0,  0],\n",
       "       [ 0,  0,  1, -1],\n",
       "       [ 1,  0,  0, -1],\n",
       "       [ 0,  1, -1,  0],\n",
       "       [-1,  0,  1,  0]])"
      ]
     },
     "execution_count": 29,
     "metadata": {},
     "output_type": "execute_result"
    }
   ],
   "source": [
    "X = np.array([\n",
    "        [0, 1, 0, -1],\n",
    "        [1, -1, 0, 0],\n",
    "        [0, 0, 1, -1],\n",
    "        [1, 0, 0, -1],\n",
    "        [0, 1, -1, 0],\n",
    "        [-1, 0, 1, 0]\n",
    "    ])\n",
    "X"
   ]
  },
  {
   "cell_type": "markdown",
   "metadata": {},
   "source": [
    "where each of the columns corresponds to a team, and each row is a game. The labeled output may be more clear:"
   ]
  },
  {
   "cell_type": "code",
   "execution_count": 30,
   "metadata": {
    "collapsed": false
   },
   "outputs": [
    {
     "name": "stdout",
     "output_type": "stream",
     "text": [
      "        Harvard  Princeton  Yale  Columbia\n",
      "game_1        0          1     0        -1\n",
      "game_2        1         -1     0         0\n",
      "game_3        0          0     1        -1\n",
      "game_4        1          0     0        -1\n",
      "game_5        0          1    -1         0\n",
      "game_6       -1          0     1         0\n"
     ]
    }
   ],
   "source": [
    "game_num = ['game_' + _ for _ in '123456']\n",
    "team_names = ['Harvard', 'Princeton', 'Yale', 'Columbia']\n",
    "X_df = pd.DataFrame(X, index=game_num, columns=team_names)\n",
    "print(X_df.to_string())"
   ]
  },
  {
   "cell_type": "markdown",
   "metadata": {},
   "source": [
    "For example, the first row corresponds to the game between Princeton and Columbia. The winning team, Princeton, gets a $1$ in its column while the losing team, Columbia, gets a $-1$ in its column."
   ]
  },
  {
   "cell_type": "markdown",
   "metadata": {},
   "source": [
    "Our full system of equations can be written using the linear matrix equation $Xr=y$, where $X$ is the $m \\times n$ matrix we just constructed, $r$ is the $n \\times 1$ vector containing the ratings of each team, and $y$ is the $m \\times 1$ vector of score differences from each game.\n",
    "\n",
    "$$\n",
    "\\begin{bmatrix}\n",
    "  0 & 1 & 0 & -1 \\\\\n",
    "  1 & -1 & 0 & 0 \\\\\n",
    "  0 & 0 & 1 & -1 \\\\\n",
    "  1 & 0 & 0 & -1 \\\\\n",
    "  0 & 1 & -1 & 0 \\\\\n",
    "  -1 & 0 & 1 & 0\n",
    "\\end{bmatrix} \n",
    "\\begin{bmatrix}\n",
    "  r_h \\\\\n",
    "  r_p \\\\\n",
    "  r_y \\\\\n",
    "  r_c\n",
    "\\end{bmatrix}\n",
    "= \n",
    "\\begin{bmatrix}\n",
    "  35 \\\\\n",
    "  3 \\\\\n",
    "  8 \\\\\n",
    "  7 \\\\\n",
    "  28 \\\\\n",
    "  7\n",
    "\\end{bmatrix}\n",
    "$$\n",
    "\n",
    "Now, you can see that it is pretty easy to construct this matrix equation from the beginning. For each game (row), just put a $1$ in the column of the winning team, a $-1$ in the column of the losing team, and encode the absolute value of the point differential (the margin of victory) in the $y$ vector."
   ]
  },
  {
   "cell_type": "markdown",
   "metadata": {},
   "source": [
    "### Solving for the Ratings ###\n",
    "\n",
    "In any given season, it is likely that the number of games played ($m$) will be much greater than the number of teams ($n$). This means that we have more equations than unknowns. In our IV league example, we had six equations but only four unknowns. Mathematically, this means that the matrix is *overdetermined*, and thus the system of equations is likely *inconsistent*. In simpler words, this means that there is almost certainly no solution to the system of equations."
   ]
  },
  {
   "cell_type": "markdown",
   "metadata": {},
   "source": [
    "#### Unnecsary Aside: A simple example for those unfamiliar with least squares ####\n",
    "Take this really simple example of two equations and one unknown. \n",
    "$$\n",
    "\\begin{align*}\n",
    "x &= 5 \\\\\n",
    "x &= 9\n",
    "\\end{align*}\n",
    "$$\n",
    "\n",
    "Obviously, there is no $x$ that satisfies both of these equations. So we are going to need to look for the best approximate solution $\\bar x$. But how do we measure which is the \"best\" solution?\n",
    "\n",
    "Often, we consider the best fit to be the one that minimizes the *sum of the squared errors*. To be more mathematical, for our system of $m=2$ and $n=1$ unknowns, we seek the $\\hat x$ that minimizes the following:\n",
    "$$\n",
    "\\sum_{i=1}^m (x-\\bar x)^2 = (9-\\bar x)^2 + (5- \\bar x)^2\n",
    "$$\n",
    "Now I think it is intuitive that the solution is somewhere between $5$ and $9$. The first guess is probably the average of $5$ and $9$, $\\bar x = 7$ But some of you may think that it would be more advantageous to choose $\\bar x = 6$ or  $\\bar x = 8$ since they are closer to one of the numbers, or perhaps even $\\bar x = 5$ or  $\\bar x = 9$ since it makes one of the eqations exactly true. Well, it turns out that the average $\\bar x = 7$ is the best choice because it minimizes $\\sum_{i=1}^m (x-\\bar x)^2$ if you do the math out. (This is no coincidence; the *mean* is precisely that estimator that minimizes the sum of squared errors)  \n",
    "\n",
    "So this is exactly what we are trying to with our matrix equation: find those ratings that give the best approximate answer to our system of equations, as determined by the least squares criterion."
   ]
  },
  {
   "cell_type": "markdown",
   "metadata": {},
   "source": [
    "#### The least squares solution to our matrix equation #### \n",
    "\n",
    "So in the case of our matrix equation $Xr=y$ that we cannot find a solution for, we seek the least squares solution $\\hat r$ such that the error $E = \\parallel{Xr - y}\\parallel^2$ is minimized.  \n",
    "\n",
    "To find this $\\hat r$ we focus on solving what are called the \"normal equations,\" $X^TX\\hat r = X^T y$. "
   ]
  },
  {
   "cell_type": "markdown",
   "metadata": {},
   "source": [
    "#### Unnecessary Aside: Deriving the Normal Equations ####\n",
    "\n",
    "In the machine learning courses I have seen, the normal equations are often derived using calculus. However, I find matrix calculus a bit narly, so instead I am going to use some geometry to derive them. If you want to see the calculus derivation, please see a linear algebra/machine learning textbook.\n",
    "\n",
    "When we are trying to solve $Xr=y$, a solution exists if and only if a linear combination of the columns of $X$ can equal the $y$ vector. That is to say (in slightly more mathematical jargon), a solution exists if $y$ lies in the column space of $X$, which I'll call $C(X)$. Well since we have an overdetermined system, $y$ is almost definitely outside of $C(X)$. So what do we do? The answer is that we give up on solving exactly for $y$. Instead, let's look for $X\\hat r$, the vector in $C(X)$ that is as close as possible to $y$. \n",
    "\n",
    "But what does close mean? It means that the error vector $e = (y - X \\hat r)$ is perpendicular to the vector $X \\hat r$, which is in $C(X)$. (If the reason for this is not clear to you, this [medium post](https://medium.com/@andrew.chamberlain/the-linear-algebra-view-of-least-squares-regression-f67044b7f39b) has a rather good illustration)\n",
    "\n",
    "And when two vectors are perpendicular, we know that their dot product must be $0$. So let's do it out and solve for the approximate ratings vector $\\hat r$:\n",
    "\n",
    "$$\n",
    "\\begin{align*}\n",
    "(X \\hat r)^T (y - X \\hat r) &= 0 \\\\\n",
    "\\hat r^T X^T y -\\hat r^T X^T X \\hat r &= 0 \\\\\n",
    "\\hat r^T X^T X \\hat r &= \\hat r^T X^T y \\\\\n",
    "(\\hat r^T)^{-1} \\hat r^T X^T X \\hat r &= (\\hat r^T)^{-1} \\hat r^T X^T y \\\\\n",
    "X^T X \\hat r &= X^T y \\\\ \n",
    "\\end{align*}\n",
    "$$\n",
    "And, if $X^T X$ is invertible:\n",
    "$$\n",
    "\\hat r = (X^T X)^{-1} X^T y \n",
    "$$\n",
    "\n",
    "If anyone cares, the matrix $(X^T X)^{-1} X^T$ is often referred to as the *Moore-Penrose Pseudoinverse*."
   ]
  },
  {
   "cell_type": "markdown",
   "metadata": {},
   "source": [
    "#### Back to the example\n",
    "\n",
    "Anyways, let's do the math out for our IV league example and attempt to solve the normal equations $X^TX\\hat r = X^T y$:\n",
    "\n",
    "First examine what the matrix product $X^TX$ looks like:"
   ]
  },
  {
   "cell_type": "code",
   "execution_count": 35,
   "metadata": {
    "collapsed": false
   },
   "outputs": [
    {
     "name": "stdout",
     "output_type": "stream",
     "text": [
      "X looks like:\n",
      "        Harvard  Princeton  Yale  Columbia\n",
      "game_1        0          1     0        -1\n",
      "game_2        1         -1     0         0\n",
      "game_3        0          0     1        -1\n",
      "game_4        1          0     0        -1\n",
      "game_5        0          1    -1         0\n",
      "game_6       -1          0     1         0\n",
      "\n",
      "X^T looks like:\n",
      "           game_1  game_2  game_3  game_4  game_5  game_6\n",
      "Harvard         0       1       0       1       0      -1\n",
      "Princeton       1      -1       0       0       1       0\n",
      "Yale            0       0       1       0      -1       1\n",
      "Columbia       -1       0      -1      -1       0       0\n"
     ]
    }
   ],
   "source": [
    "print(\"X looks like:\")\n",
    "print(X_df.to_string() + '\\n')\n",
    "print(\"X^T looks like:\")\n",
    "print(X_df.T.to_string())"
   ]
  },
  {
   "cell_type": "markdown",
   "metadata": {},
   "source": [
    "Let's call the matrix product $M$ for short"
   ]
  },
  {
   "cell_type": "code",
   "execution_count": 39,
   "metadata": {
    "collapsed": false
   },
   "outputs": [
    {
     "data": {
      "text/plain": [
       "array([[ 3, -1, -1, -1],\n",
       "       [-1,  3, -1, -1],\n",
       "       [-1, -1,  3, -1],\n",
       "       [-1, -1, -1,  3]])"
      ]
     },
     "execution_count": 39,
     "metadata": {},
     "output_type": "execute_result"
    }
   ],
   "source": [
    "M = (X.T).dot(X)\n",
    "M"
   ]
  },
  {
   "cell_type": "markdown",
   "metadata": {},
   "source": [
    "Showing the labels that each row and column correspond to:"
   ]
  },
  {
   "cell_type": "code",
   "execution_count": 40,
   "metadata": {
    "collapsed": false
   },
   "outputs": [
    {
     "name": "stdout",
     "output_type": "stream",
     "text": [
      "           Harvard  Princeton  Yale  Columbia\n",
      "Harvard          3         -1    -1        -1\n",
      "Princeton       -1          3    -1        -1\n",
      "Yale            -1         -1     3        -1\n",
      "Columbia        -1         -1    -1         3\n"
     ]
    }
   ],
   "source": [
    "team_names = ['Harvard', 'Princeton', 'Yale', 'Columbia']\n",
    "M_df = pd.DataFrame(M, index=team_names, columns=team_names)\n",
    "print(M_df.to_string())"
   ]
  },
  {
   "cell_type": "markdown",
   "metadata": {},
   "source": [
    "It may also help to see the whole multiplication written out:"
   ]
  },
  {
   "cell_type": "markdown",
   "metadata": {},
   "source": [
    "$$\n",
    "M = X^TX =\n",
    "\\begin{bmatrix}\n",
    "  0 & 1 & 0 & 1 & 0 & -1 \\\\\n",
    "  1 & -1 & 0 & 0 & 1 & 0 \\\\\n",
    "  0 & 0 & 1 & 0 & -1 & 1 \\\\\n",
    "  -1 & 0 & -1 & -1 & 0 & 0\n",
    "\\end{bmatrix} \n",
    "\\begin{bmatrix}\n",
    "  0 & 1 & 0 & -1 \\\\\n",
    "  1 & -1 & 0 & 0 \\\\\n",
    "  0 & 0 & 1 & -1 \\\\\n",
    "  1 & 0 & 0 & -1 \\\\\n",
    "  0 & 1 & -1 & 0 \\\\\n",
    "  -1 & 0 & 1 & 0\n",
    "\\end{bmatrix} \n",
    "=\n",
    "\\begin{bmatrix}\n",
    "  3 & -1 & -1 & -1 \\\\\n",
    "  -1 & 3 & -1 & -1 \\\\\n",
    "  -1 & -1 & 3 & -1 \\\\\n",
    "  -1 & -1 & -1 & 3\n",
    "\\end{bmatrix}  \n",
    "$$"
   ]
  },
  {
   "cell_type": "markdown",
   "metadata": {},
   "source": [
    "$M$ is an $n \\times n$ matrix. In general, the diagonal entries $M_{ii}$ correspond to the total number of games played by team $i$. The other entries $M_{ij}$ for $i \\neq j$ are simply equal to the negation of how many times team $i$ played team $j$."
   ]
  },
  {
   "cell_type": "markdown",
   "metadata": {},
   "source": [
    "Now let's move on to the right side of the equation, $X^T y$. For sale of simplicity, we will call this vector $p$."
   ]
  },
  {
   "cell_type": "code",
   "execution_count": 43,
   "metadata": {
    "collapsed": false
   },
   "outputs": [
    {
     "data": {
      "text/plain": [
       "array([[35],\n",
       "       [ 3],\n",
       "       [ 8],\n",
       "       [ 7],\n",
       "       [28],\n",
       "       [ 7]])"
      ]
     },
     "execution_count": 43,
     "metadata": {},
     "output_type": "execute_result"
    }
   ],
   "source": [
    "yT = np.array([\n",
    "        [35, 3, 8, 7, 28, 7]\n",
    "    ])\n",
    "y = yT.T\n",
    "y"
   ]
  },
  {
   "cell_type": "code",
   "execution_count": 49,
   "metadata": {
    "collapsed": false
   },
   "outputs": [
    {
     "data": {
      "text/plain": [
       "array([[  3],\n",
       "       [ 60],\n",
       "       [-13],\n",
       "       [-50]])"
      ]
     },
     "execution_count": 49,
     "metadata": {},
     "output_type": "execute_result"
    }
   ],
   "source": [
    "p = (X.T).dot(y)\n",
    "p"
   ]
  },
  {
   "cell_type": "code",
   "execution_count": 68,
   "metadata": {
    "collapsed": false
   },
   "outputs": [
    {
     "name": "stdout",
     "output_type": "stream",
     "text": [
      "             \n",
      "Harvard     3\n",
      "Princeton  60\n",
      "Yale      -13\n",
      "Columbia    0\n"
     ]
    }
   ],
   "source": [
    "team_names = ['Harvard', 'Princeton', 'Yale', 'Columbia']\n",
    "p_df = pd.DataFrame(p, index=team_names,columns=[''])\n",
    "print(p_df.to_string())"
   ]
  },
  {
   "cell_type": "markdown",
   "metadata": {},
   "source": [
    "Some of you may notice something special about this vector $p$. I'll write the multiplication out in full so that it may be more clear to you."
   ]
  },
  {
   "cell_type": "markdown",
   "metadata": {},
   "source": [
    "$$\n",
    "p = X^Ty =\n",
    "\\begin{bmatrix}\n",
    "  0 & 1 & 0 & 1 & 0 & -1 \\\\\n",
    "  1 & -1 & 0 & 0 & 1 & 0 \\\\\n",
    "  0 & 0 & 1 & 0 & -1 & 1 \\\\\n",
    "  -1 & 0 & -1 & -1 & 0 & 0\n",
    "\\end{bmatrix} \n",
    "\\begin{bmatrix}\n",
    "  35 \\\\\n",
    "  3 \\\\\n",
    "  8 \\\\\n",
    "  7 \\\\\n",
    "  28 \\\\\n",
    "  7\n",
    "\\end{bmatrix}\n",
    "=\n",
    "\\begin{bmatrix}\n",
    "  3 \\\\\n",
    "  60 \\\\\n",
    "  -13 \\\\\n",
    "  -50 \n",
    "\\end{bmatrix} \n",
    "$$"
   ]
  },
  {
   "cell_type": "markdown",
   "metadata": {},
   "source": [
    "The vector $p$ encodes the total point differential, summed across every game for a given team. Let's just examine the first row of $p$, which encodes Harvard's total point differential. \n",
    "\n",
    "Harvard played three games in the IV league. In their first game they beat Princeton with a point differential of +3. In their second game, they beat Columbia with a point differential of +7. In their last game, they lost to Yale by a point differential of -7. Alltogether, their total point is 7 + 3 -7 = 3.\n",
    "\n",
    "If you do the matrix multiplaction for the first row, the same exact thing is happening. You add all the point differentials from Harvard's win and subtract the point differentials from the loss. Thus, $p$ simply encodes the cumulative point differentials for each team.\n",
    "\n",
    "Now, it is also pretty easy to see that both $M$ and $p$ can be constructed pretty easily from the beginning without having to first construct $X$ and $y$. This avoids some unnecessary computation. Also note that $M$ is $n \\times n$ and is thus ususally much smaller than the $m \\times n$ matrix $X$."
   ]
  },
  {
   "cell_type": "markdown",
   "metadata": {},
   "source": [
    "#### Finally Solving the Normal Equations.\n",
    "\n",
    "Now that we have seen how to construct $M$ and $p$, let's solve for $\\hat r$ using the normal equations $M \\hat r = p$.\n",
    "\n",
    "$$\n",
    "\\begin{bmatrix}\n",
    "  3 & -1 & -1 & -1 \\\\\n",
    "  -1 & 3 & -1 & -1 \\\\\n",
    "  -1 & -1 & 3 & -1 \\\\\n",
    "  -1 & -1 & -1 & 3\n",
    "\\end{bmatrix}\n",
    "\\begin{bmatrix}\n",
    "  r_h \\\\\n",
    "  r_p \\\\\n",
    "  r_y \\\\\n",
    "  r_c\n",
    "\\end{bmatrix}\n",
    "=\n",
    "\\begin{bmatrix}\n",
    "  3 \\\\\n",
    "  60 \\\\\n",
    "  -13 \\\\\n",
    "  -50 \n",
    "\\end{bmatrix} \n",
    "$$\n",
    "\n",
    "(Note: I probably should put hats over the individual ratings in $\\hat r$, but by now I think it is clear that these ratings will be an approximation.)"
   ]
  },
  {
   "cell_type": "markdown",
   "metadata": {},
   "source": [
    "But before we solve for the ratings, it is worth also examining the columns of $M$ to spot **one minor issue**. Some of you may have seen immedietly this interesting property of the columns of $M$:\n",
    "\n",
    "$$\n",
    "\\begin{bmatrix}\n",
    "   3 \\\\\n",
    "  -1 \\\\\n",
    "  -1 \\\\\n",
    "  -1 \n",
    "\\end{bmatrix}  \n",
    "+ \n",
    "\\begin{bmatrix}\n",
    "  -1 \\\\\n",
    "  3 \\\\\n",
    "  -1 \\\\\n",
    "  -1 \n",
    "\\end{bmatrix} \n",
    "+\n",
    "\\begin{bmatrix}\n",
    "  -1 \\\\\n",
    "  -1 \\\\\n",
    "  3 \\\\\n",
    "  -1 \n",
    "\\end{bmatrix} \n",
    "+ \n",
    "\\begin{bmatrix}\n",
    "  -1 \\\\\n",
    "  -1 \\\\\n",
    "  -1 \\\\\n",
    "  3 \n",
    "\\end{bmatrix} \n",
    "= \n",
    "\\begin{bmatrix}\n",
    "  0 \\\\\n",
    "  0 \\\\\n",
    "  0 \\\\\n",
    "  0 \n",
    "\\end{bmatrix} \n",
    "$$\n",
    "\n",
    "Some of you will also remember that a set of vectors is *linearly dependent* if one of the vectors can be written as a linear combination of the others vectors. Well let me just move one of the vectors over to the other side and multiply the equation by $-1$:\n",
    "\n",
    "$$\n",
    "-1*\n",
    "\\begin{bmatrix}\n",
    "   3 \\\\\n",
    "  -1 \\\\\n",
    "  -1 \\\\\n",
    "  -1 \n",
    "\\end{bmatrix}  \n",
    "+ \n",
    "-1*\n",
    "\\begin{bmatrix}\n",
    "  -1 \\\\\n",
    "  3 \\\\\n",
    "  -1 \\\\\n",
    "  -1 \n",
    "\\end{bmatrix} \n",
    "+\n",
    "-1*\n",
    "\\begin{bmatrix}\n",
    "  -1 \\\\\n",
    "  -1 \\\\\n",
    "  3 \\\\\n",
    "  -1 \n",
    "\\end{bmatrix} \n",
    "= \n",
    "\\begin{bmatrix}\n",
    "  -1 \\\\\n",
    "  -1 \\\\\n",
    "  -1 \\\\\n",
    "  3 \n",
    "\\end{bmatrix} \n",
    "$$\n",
    "\n",
    "It's now pretty obvious that this set of vectors is linearly dependent. You may similarly notice that the same is true of the rows of $M$. These properties also hold true in general when we consider the matrix $M$ over an arbitrary set of games and teams.\n",
    "\n",
    "The linear dependence of the columns of $M$ has some interesting properties that we need to consider. The first thing you may remember from a linear algebra class is that linearly dependent columns is one of the many, many equivalent ways to say that a matrix is not invertible. Also, we observe that $rank(M) < n$, and thus the solution for $\\hat r$ is not unique."
   ]
  },
  {
   "cell_type": "markdown",
   "metadata": {},
   "source": [
    "Massey came up with a **clever fix** for this. He simply replaces the last row of $M$ with a row of all ones. and sets the last entry of $p$ to be $0$. This new system is now denoted $\\bar M \\hat r = \\bar p$ and looks like this:\n",
    "\n",
    "$$\n",
    "\\begin{bmatrix}\n",
    "  3 & -1 & -1 & -1 \\\\\n",
    "  -1 & 3 & -1 & -1 \\\\\n",
    "  -1 & -1 & 3 & -1 \\\\\n",
    "  1 & 1 & 1 & 1\n",
    "\\end{bmatrix}\n",
    "\\begin{bmatrix}\n",
    "  r_h \\\\\n",
    "  r_p \\\\\n",
    "  r_y \\\\\n",
    "  r_c\n",
    "\\end{bmatrix}\n",
    "=\n",
    "\\begin{bmatrix}\n",
    "  3 \\\\\n",
    "  60 \\\\\n",
    "  -13 \\\\\n",
    "  0 \n",
    "\\end{bmatrix} \n",
    "$$\n",
    "\n",
    "$\\bar M$ is now full rank and there is a unique solution for $\\hat r$. There is one other nice property of this new setup which can be seen by doing the matrix multiplication for the last row. \n",
    "$$\n",
    "1*r_h + 1*r_p + 1*r_y + 1*r_c = 0\n",
    "$$\n",
    "That is, all of the rankings must now sum to zero."
   ]
  },
  {
   "cell_type": "markdown",
   "metadata": {},
   "source": [
    "Let's now finally get a solution using numpy for the ratings:"
   ]
  },
  {
   "cell_type": "code",
   "execution_count": 58,
   "metadata": {
    "collapsed": false
   },
   "outputs": [
    {
     "data": {
      "text/plain": [
       "array([[ 3, -1, -1, -1],\n",
       "       [-1,  3, -1, -1],\n",
       "       [-1, -1,  3, -1],\n",
       "       [ 1,  1,  1,  1]])"
      ]
     },
     "execution_count": 58,
     "metadata": {},
     "output_type": "execute_result"
    }
   ],
   "source": [
    "M_bar = M\n",
    "M_bar[-1,:] = np.ones(M.shape[0])\n",
    "M_bar"
   ]
  },
  {
   "cell_type": "code",
   "execution_count": 59,
   "metadata": {
    "collapsed": false
   },
   "outputs": [
    {
     "data": {
      "text/plain": [
       "array([[  3],\n",
       "       [ 60],\n",
       "       [-13],\n",
       "       [  0]])"
      ]
     },
     "execution_count": 59,
     "metadata": {},
     "output_type": "execute_result"
    }
   ],
   "source": [
    "p_bar = p\n",
    "p_bar[-1] = 0\n",
    "p_bar"
   ]
  },
  {
   "cell_type": "code",
   "execution_count": 62,
   "metadata": {
    "collapsed": false
   },
   "outputs": [
    {
     "data": {
      "text/plain": [
       "array([[  0.75],\n",
       "       [ 15.  ],\n",
       "       [ -3.25],\n",
       "       [-12.5 ]])"
      ]
     },
     "execution_count": 62,
     "metadata": {},
     "output_type": "execute_result"
    }
   ],
   "source": [
    "r_hat = np.linalg.inv(M_bar).dot(p_bar)\n",
    "r_hat"
   ]
  },
  {
   "cell_type": "code",
   "execution_count": 67,
   "metadata": {
    "collapsed": false
   },
   "outputs": [
    {
     "name": "stdout",
     "output_type": "stream",
     "text": [
      "                \n",
      "Harvard     0.75\n",
      "Princeton  15.00\n",
      "Yale       -3.25\n",
      "Columbia  -12.50\n"
     ]
    }
   ],
   "source": [
    "team_names = ['Harvard', 'Princeton', 'Yale', 'Columbia']\n",
    "r_df = pd.DataFrame(r_hat, index=team_names,columns=[''])\n",
    "print(r_df.to_string())"
   ]
  },
  {
   "cell_type": "markdown",
   "metadata": {},
   "source": [
    "## The Connection Between Massey's Method and Linear Regression"
   ]
  },
  {
   "cell_type": "markdown",
   "metadata": {},
   "source": [
    "I am now going to try to motivate Massey's Method a bit differently. At YUSAG, we use a linear regression model for our rankings. Linear regression is a classical statistical method that also relies on the method of least squares in determining the proper paramemters. Below I will attempt to show that Massey's Method is equivalent to linear regression, which offers a nice, alternative interpretation for why it works. "
   ]
  },
  {
   "cell_type": "markdown",
   "metadata": {},
   "source": [
    "### Basics of Linear Regression\n",
    "\n",
    "Here, I am going to provide a very, very brief overview of how linear regression works. I suggest you consult any of the countless excellent resources on the topic if you wish to dive deeper."
   ]
  },
  {
   "cell_type": "markdown",
   "metadata": {},
   "source": [
    "#### The Form of Multiple Linear Regression\n",
    "\n",
    "In linear regression, we simply attempt to predict a scalar variable $\\hat y$ as the weighted sum of a bunch of input features (explanatory variables) and a bias term (the interecept). The general form is:\n",
    "\n",
    "$$\n",
    "\\hat y = w_0 + w_1 x_1 + w_2 x_2 + \\cdots + w_n x_n\n",
    "$$\n",
    "where:\n",
    "* $\\hat y$ is the predicted response variable\n",
    "* $x_i$ is the i'th feature value\n",
    "* $w_j$ is the j'th model parameter\n",
    "    * $w_0$ is the bias term\n",
    "    * $w_1, w_2,...,w_n$ are the feature weights\n",
    "* $n$ is the number of features\n",
    "\n",
    "So how do we figure out the values of the model coefficients $w_0,...,w_n$? The answer is that we learn these parameters when we train the linear model on the data. In fact, for linear regression, the fit is determined using the least squares criterion. That is, we seek the parameters that minimize the sum of squared errors. Once the model is trained, and the best parameters are learned, we can use the model for prediction.\n",
    "\n",
    "It turns out there is an even nicer way to write the general form of linear regression using vector notation:\n",
    "\n",
    "$$\n",
    "\\hat y = w^Tx\n",
    "$$\n",
    "\n",
    "where $w$ is the parameter vector containing the bias term $w_0$ and the feature weights $w_1,...,w_n$. The vector $x$ is the feature vector containing $x_0$, which is always equal to $1$, and the feature values $x_1,...,x_n$.\n",
    "\n",
    "And, if there is a whole training set of data, we construct a matrix $X$ whose rows are feature vectors $x$. We also construct a vectory $y$ which containes the target values for each data point of feature values. In matrix form:\n",
    "\n",
    "$$\n",
    "Xw = y\n",
    "$$"
   ]
  },
  {
   "cell_type": "markdown",
   "metadata": {},
   "source": [
    "#### The Data ####\n",
    "\n",
    "For this linear regression problem, I am going to load the data from the 2016 IV season in a specialized format."
   ]
  },
  {
   "cell_type": "code",
   "execution_count": 73,
   "metadata": {
    "collapsed": false
   },
   "outputs": [
    {
     "data": {
      "text/html": [
       "<div>\n",
       "<table border=\"1\" class=\"dataframe\">\n",
       "  <thead>\n",
       "    <tr style=\"text-align: right;\">\n",
       "      <th></th>\n",
       "      <th>year</th>\n",
       "      <th>month</th>\n",
       "      <th>day</th>\n",
       "      <th>Harvard</th>\n",
       "      <th>Princeton</th>\n",
       "      <th>Yale</th>\n",
       "      <th>Columbia</th>\n",
       "      <th>location</th>\n",
       "      <th>MOV</th>\n",
       "    </tr>\n",
       "  </thead>\n",
       "  <tbody>\n",
       "    <tr>\n",
       "      <th>0</th>\n",
       "      <td>2016</td>\n",
       "      <td>10</td>\n",
       "      <td>1</td>\n",
       "      <td>0</td>\n",
       "      <td>1</td>\n",
       "      <td>0</td>\n",
       "      <td>-1</td>\n",
       "      <td>-1</td>\n",
       "      <td>35</td>\n",
       "    </tr>\n",
       "    <tr>\n",
       "      <th>1</th>\n",
       "      <td>2016</td>\n",
       "      <td>10</td>\n",
       "      <td>22</td>\n",
       "      <td>1</td>\n",
       "      <td>-1</td>\n",
       "      <td>0</td>\n",
       "      <td>0</td>\n",
       "      <td>-1</td>\n",
       "      <td>3</td>\n",
       "    </tr>\n",
       "    <tr>\n",
       "      <th>2</th>\n",
       "      <td>2016</td>\n",
       "      <td>10</td>\n",
       "      <td>28</td>\n",
       "      <td>0</td>\n",
       "      <td>0</td>\n",
       "      <td>1</td>\n",
       "      <td>-1</td>\n",
       "      <td>-1</td>\n",
       "      <td>8</td>\n",
       "    </tr>\n",
       "    <tr>\n",
       "      <th>3</th>\n",
       "      <td>2016</td>\n",
       "      <td>11</td>\n",
       "      <td>5</td>\n",
       "      <td>1</td>\n",
       "      <td>0</td>\n",
       "      <td>0</td>\n",
       "      <td>-1</td>\n",
       "      <td>1</td>\n",
       "      <td>7</td>\n",
       "    </tr>\n",
       "    <tr>\n",
       "      <th>4</th>\n",
       "      <td>2016</td>\n",
       "      <td>11</td>\n",
       "      <td>12</td>\n",
       "      <td>0</td>\n",
       "      <td>1</td>\n",
       "      <td>-1</td>\n",
       "      <td>0</td>\n",
       "      <td>-1</td>\n",
       "      <td>28</td>\n",
       "    </tr>\n",
       "    <tr>\n",
       "      <th>5</th>\n",
       "      <td>2016</td>\n",
       "      <td>11</td>\n",
       "      <td>19</td>\n",
       "      <td>-1</td>\n",
       "      <td>0</td>\n",
       "      <td>1</td>\n",
       "      <td>0</td>\n",
       "      <td>-1</td>\n",
       "      <td>7</td>\n",
       "    </tr>\n",
       "  </tbody>\n",
       "</table>\n",
       "</div>"
      ],
      "text/plain": [
       "   year  month  day  Harvard   Princeton  Yale  Columbia  location  MOV\n",
       "0  2016     10    1         0          1     0        -1        -1   35\n",
       "1  2016     10   22         1         -1     0         0        -1    3\n",
       "2  2016     10   28         0          0     1        -1        -1    8\n",
       "3  2016     11    5         1          0     0        -1         1    7\n",
       "4  2016     11   12         0          1    -1         0        -1   28\n",
       "5  2016     11   19        -1          0     1         0        -1    7"
      ]
     },
     "execution_count": 73,
     "metadata": {},
     "output_type": "execute_result"
    }
   ],
   "source": [
    "lin_reg_df = pd.read_csv('IV_linear_regression_data.csv')\n",
    "lin_reg_df"
   ]
  },
  {
   "cell_type": "markdown",
   "metadata": {},
   "source": [
    "Some explanation of this data is in order. Each row represents a game. Within each row, the feature value for the winning team is $1$ and the value for the losing team is $-1$. All the other teams receive a value of $0$. The `location` column corresponds to the location of the winning team, with $1$ being home, $-1$ being away, and $0$ being neutral. Lastly, the `MOV` column is simply the margin of victory.\n",
    "\n",
    "For example, in the game on 10/01/2016, Princeton beat Columbia at Columbia by 35 points."
   ]
  },
  {
   "cell_type": "markdown",
   "metadata": {},
   "source": [
    "#### Seeting Up Our Model ####\n",
    "\n",
    "Broadly, the goal of our linear regression model is to explain the margin of victory (MOV) based on the strength of the winning team and the strength of the losing team. (I am going to exclude location for now)\n",
    "\n",
    "Let's first make our training data:"
   ]
  },
  {
   "cell_type": "code",
   "execution_count": 75,
   "metadata": {
    "collapsed": false
   },
   "outputs": [
    {
     "data": {
      "text/html": [
       "<div>\n",
       "<table border=\"1\" class=\"dataframe\">\n",
       "  <thead>\n",
       "    <tr style=\"text-align: right;\">\n",
       "      <th></th>\n",
       "      <th>Harvard</th>\n",
       "      <th>Princeton</th>\n",
       "      <th>Yale</th>\n",
       "      <th>Columbia</th>\n",
       "    </tr>\n",
       "  </thead>\n",
       "  <tbody>\n",
       "    <tr>\n",
       "      <th>0</th>\n",
       "      <td>0</td>\n",
       "      <td>1</td>\n",
       "      <td>0</td>\n",
       "      <td>-1</td>\n",
       "    </tr>\n",
       "    <tr>\n",
       "      <th>1</th>\n",
       "      <td>1</td>\n",
       "      <td>-1</td>\n",
       "      <td>0</td>\n",
       "      <td>0</td>\n",
       "    </tr>\n",
       "    <tr>\n",
       "      <th>2</th>\n",
       "      <td>0</td>\n",
       "      <td>0</td>\n",
       "      <td>1</td>\n",
       "      <td>-1</td>\n",
       "    </tr>\n",
       "    <tr>\n",
       "      <th>3</th>\n",
       "      <td>1</td>\n",
       "      <td>0</td>\n",
       "      <td>0</td>\n",
       "      <td>-1</td>\n",
       "    </tr>\n",
       "    <tr>\n",
       "      <th>4</th>\n",
       "      <td>0</td>\n",
       "      <td>1</td>\n",
       "      <td>-1</td>\n",
       "      <td>0</td>\n",
       "    </tr>\n",
       "    <tr>\n",
       "      <th>5</th>\n",
       "      <td>-1</td>\n",
       "      <td>0</td>\n",
       "      <td>1</td>\n",
       "      <td>0</td>\n",
       "    </tr>\n",
       "  </tbody>\n",
       "</table>\n",
       "</div>"
      ],
      "text/plain": [
       "   Harvard   Princeton  Yale  Columbia\n",
       "0         0          1     0        -1\n",
       "1         1         -1     0         0\n",
       "2         0          0     1        -1\n",
       "3         1          0     0        -1\n",
       "4         0          1    -1         0\n",
       "5        -1          0     1         0"
      ]
     },
     "execution_count": 75,
     "metadata": {},
     "output_type": "execute_result"
    }
   ],
   "source": [
    "X = lin_reg_df.drop(['year','month','day','location','MOV'], axis=1)\n",
    "X"
   ]
  },
  {
   "cell_type": "code",
   "execution_count": 77,
   "metadata": {
    "collapsed": false
   },
   "outputs": [
    {
     "data": {
      "text/plain": [
       "0    35\n",
       "1     3\n",
       "2     8\n",
       "3     7\n",
       "4    28\n",
       "5     7\n",
       "Name: MOV, dtype: int64"
      ]
     },
     "execution_count": 77,
     "metadata": {},
     "output_type": "execute_result"
    }
   ],
   "source": [
    "y = lin_reg_df['MOV']\n",
    "y"
   ]
  },
  {
   "cell_type": "markdown",
   "metadata": {},
   "source": [
    "Now let's set up the matrix equation $Xw = y$ that we are trying to solve. Remember that we must add $x_0$ and $w_0$. I am also going to set up change the weight subscripts from $1,...,n$ to the name of the schools that the weights refer to. "
   ]
  },
  {
   "cell_type": "markdown",
   "metadata": {},
   "source": [
    "$$\n",
    "\\begin{bmatrix}\n",
    "  1 & 0 & 1 & 0 & -1 \\\\\n",
    "  1 & 1 & -1 & 0 & 0 \\\\\n",
    "  1 & 0 & 0 & 1 & -1 \\\\\n",
    "  1 & 1 & 0 & 0 & -1 \\\\\n",
    "  1 & 0 & 1 & -1 & 0 \\\\\n",
    "  1 & -1 & 0 & 1 & 0\n",
    "\\end{bmatrix} \n",
    "\\begin{bmatrix}\n",
    "  w_0 \\\\\n",
    "  w_h \\\\\n",
    "  w_p \\\\\n",
    "  w_y \\\\\n",
    "  w_c \n",
    "\\end{bmatrix}\n",
    "= \n",
    "\\begin{bmatrix}\n",
    "  35 \\\\\n",
    "  3 \\\\\n",
    "  8 \\\\\n",
    "  7 \\\\\n",
    "  28 \\\\\n",
    "  7\n",
    "\\end{bmatrix}\n",
    "$$"
   ]
  },
  {
   "cell_type": "markdown",
   "metadata": {},
   "source": [
    "Mathematically, our linear model is a function of a bias term and four input features: `Harvard`, `Princeton`, `Yale`, and `Columbia`.\n",
    "\n",
    "$$\n",
    "\\tt MOV = w_0 + (w_h*{Harvard}) + (w_p*{Princeton}) + (w_y*\\tt{Yale}) + (w_c*\\tt{Columbia})\n",
    "$$\n",
    "\n",
    "Let's examine what we get from multiplying the first row of $X$ by $w$:\n",
    "\n",
    "$$\n",
    "\\tt 35 = (1*w_0) + (w_h*0) + (w_p*1) + (w_y*0) + (w_c*{-1}) \\\\\n",
    "\\tt 35 = w_0 + w_p - w_c\n",
    "$$\n",
    "\n",
    "Now, for the sake of argument, let's imagine that we set the bias term $w_0$ to be always $0$. Now the equation from the first row looks like this: \n",
    "\n",
    "$$\n",
    "\\tt 35 = w_p - w_c\n",
    "$$\n",
    "\n",
    "This looks a lot like the ideal equation from Massey's method, just with the model coefficients $w_p$ and $w_c$ replacing the ratings $r_p$ and $w_c$. That is, the difference in the model parameters for Princeton and Columbia should equal the difference in score when they play each other. If we do this for the other rows, the equations will all look similar too.\n",
    "\n",
    "Still insisting that the bias term $w_0=0$, our full linear model looks like this: \n",
    "\n",
    "$$\n",
    "\\tt MOV = (w_h*{Harvard}) + (w_p*{Princeton}) + (w_y*\\tt{Yale}) + (w_c*\\tt{Columbia})\n",
    "$$\n",
    "\n",
    "And now that we no longer care about finding $w_0$, our matrix equation $Xw = y$ looks like this:\n",
    "\n",
    "$$\n",
    "\\begin{bmatrix}\n",
    "  0 & 1 & 0 & -1 \\\\\n",
    "  1 & -1 & 0 & 0 \\\\\n",
    "  0 & 0 & 1 & -1 \\\\\n",
    "  1 & 0 & 0 & -1 \\\\\n",
    "  0 & 1 & -1 & 0 \\\\\n",
    "  -1 & 0 & 1 & 0\n",
    "\\end{bmatrix} \n",
    "\\begin{bmatrix}\n",
    "  w_h \\\\\n",
    "  w_p \\\\\n",
    "  w_y \\\\\n",
    "  w_c\n",
    "\\end{bmatrix}\n",
    "= \n",
    "\\begin{bmatrix}\n",
    "  35 \\\\\n",
    "  3 \\\\\n",
    "  8 \\\\\n",
    "  7 \\\\\n",
    "  28 \\\\\n",
    "  7\n",
    "\\end{bmatrix}\n",
    "$$\n",
    "\n",
    "Look familiar? That's because this is exactly the matrix equation we got using Massey's method, just with the ratings now called weights. So this shows that Massey's method is just linear regression with the bias term set to $0$. Again, we can just solve using the method of least squares and get the desired weights, which can be interpreted as ratings."
   ]
  },
  {
   "cell_type": "markdown",
   "metadata": {},
   "source": [
    "#### Finding the Linear Regression Parameters ####\n",
    "\n",
    "I am going to go back to the original linear regression equation: \n",
    "\n",
    "$$\n",
    "\\begin{bmatrix}\n",
    "  1 & 0 & 1 & 0 & -1 \\\\\n",
    "  1 & 1 & -1 & 0 & 0 \\\\\n",
    "  1 & 0 & 0 & 1 & -1 \\\\\n",
    "  1 & 1 & 0 & 0 & -1 \\\\\n",
    "  1 & 0 & 1 & -1 & 0 \\\\\n",
    "  1 & -1 & 0 & 1 & 0\n",
    "\\end{bmatrix} \n",
    "\\begin{bmatrix}\n",
    "  w_0 \\\\\n",
    "  w_h \\\\\n",
    "  w_p \\\\\n",
    "  w_y \\\\\n",
    "  w_c \n",
    "\\end{bmatrix}\n",
    "= \n",
    "\\begin{bmatrix}\n",
    "  35 \\\\\n",
    "  3 \\\\\n",
    "  8 \\\\\n",
    "  7 \\\\\n",
    "  28 \\\\\n",
    "  7\n",
    "\\end{bmatrix}\n",
    "$$\n",
    "\n",
    "This one is again an overdetermined system and can be solved using the least squares method and the normal equations. I am going to use this version, because it is truly linear regression and will be easier to train using linear regression packages."
   ]
  },
  {
   "cell_type": "code",
   "execution_count": 89,
   "metadata": {
    "collapsed": false
   },
   "outputs": [
    {
     "data": {
      "text/plain": [
       "LinearRegression(copy_X=True, fit_intercept=False, n_jobs=1, normalize=False)"
      ]
     },
     "execution_count": 89,
     "metadata": {},
     "output_type": "execute_result"
    }
   ],
   "source": [
    "from sklearn.linear_model import LinearRegression\n",
    "linreg = LinearRegression(fit_intercept=False)\n",
    "linreg.fit(X, y)"
   ]
  },
  {
   "cell_type": "code",
   "execution_count": 94,
   "metadata": {
    "collapsed": false
   },
   "outputs": [
    {
     "name": "stdout",
     "output_type": "stream",
     "text": [
      "12.6666666667\n",
      "[ -2.41666667  11.83333333  -6.41666667  -3.        ]\n"
     ]
    }
   ],
   "source": [
    "# print the coefficients\n",
    "print(linreg.intercept_)\n",
    "print(linreg.coef_)"
   ]
  },
  {
   "cell_type": "code",
   "execution_count": 92,
   "metadata": {
    "collapsed": false
   },
   "outputs": [
    {
     "data": {
      "text/plain": [
       "LinearRegression(copy_X=True, fit_intercept=True, n_jobs=1, normalize=False)"
      ]
     },
     "execution_count": 92,
     "metadata": {},
     "output_type": "execute_result"
    }
   ],
   "source": [
    "from sklearn.linear_model import LinearRegression\n",
    "linreg = LinearRegression(fit_intercept=True)\n",
    "linreg.fit(X, y)"
   ]
  },
  {
   "cell_type": "code",
   "execution_count": 95,
   "metadata": {
    "collapsed": false
   },
   "outputs": [
    {
     "name": "stdout",
     "output_type": "stream",
     "text": [
      "12.6666666667\n",
      "[ -2.41666667  11.83333333  -6.41666667  -3.        ]\n"
     ]
    }
   ],
   "source": [
    "# print the coefficients\n",
    "print(linreg.intercept_)\n",
    "print(linreg.coef_)"
   ]
  },
  {
   "cell_type": "code",
   "execution_count": 83,
   "metadata": {
    "collapsed": false
   },
   "outputs": [
    {
     "data": {
      "text/plain": [
       "Ridge(alpha=1.0, copy_X=True, fit_intercept=True, max_iter=None,\n",
       "   normalize=False, random_state=None, solver='auto', tol=0.001)"
      ]
     },
     "execution_count": 83,
     "metadata": {},
     "output_type": "execute_result"
    }
   ],
   "source": [
    "from sklearn.linear_model import Ridge\n",
    "ridge_reg = Ridge()\n",
    "ridge_reg.fit(X, y)"
   ]
  },
  {
   "cell_type": "code",
   "execution_count": 84,
   "metadata": {
    "collapsed": false
   },
   "outputs": [
    {
     "name": "stdout",
     "output_type": "stream",
     "text": [
      "13.3333333333\n",
      "[-2.06666667  9.33333333 -5.26666667 -2.        ]\n"
     ]
    }
   ],
   "source": [
    "# print the coefficients\n",
    "print(ridge_reg.intercept_)\n",
    "print(ridge_reg.coef_)"
   ]
  },
  {
   "cell_type": "code",
   "execution_count": null,
   "metadata": {
    "collapsed": true
   },
   "outputs": [],
   "source": []
  }
 ],
 "metadata": {
  "kernelspec": {
   "display_name": "Python 3",
   "language": "python",
   "name": "python3"
  },
  "language_info": {
   "codemirror_mode": {
    "name": "ipython",
    "version": 3
   },
   "file_extension": ".py",
   "mimetype": "text/x-python",
   "name": "python",
   "nbconvert_exporter": "python",
   "pygments_lexer": "ipython3",
   "version": "3.6.0"
  }
 },
 "nbformat": 4,
 "nbformat_minor": 2
}
